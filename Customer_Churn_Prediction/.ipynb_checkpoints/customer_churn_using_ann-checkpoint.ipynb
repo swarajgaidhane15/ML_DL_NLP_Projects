{
 "cells": [
  {
   "cell_type": "markdown",
   "metadata": {},
   "source": [
    "#### Churn - Leave / Transfer from a particular company/firm"
   ]
  },
  {
   "cell_type": "code",
   "execution_count": 109,
   "metadata": {},
   "outputs": [],
   "source": [
    "# Importing necessary libraries\n",
    "\n",
    "import numpy as np\n",
    "import pandas as pd\n",
    "import matplotlib.pyplot as plt\n",
    "%matplotlib inline\n",
    "from sklearn.preprocessing import LabelEncoder, MinMaxScaler\n",
    "from sklearn.model_selection import train_test_split\n",
    "from sklearn.metrics import confusion_matrix, classification_report\n",
    "import seaborn as sns\n",
    "\n",
    "# Libraries for Neural network\n",
    "import tensorflow as tf\n",
    "from tensorflow import keras"
   ]
  },
  {
   "cell_type": "code",
   "execution_count": 43,
   "metadata": {},
   "outputs": [
    {
     "data": {
      "text/html": [
       "<div>\n",
       "<style scoped>\n",
       "    .dataframe tbody tr th:only-of-type {\n",
       "        vertical-align: middle;\n",
       "    }\n",
       "\n",
       "    .dataframe tbody tr th {\n",
       "        vertical-align: top;\n",
       "    }\n",
       "\n",
       "    .dataframe thead th {\n",
       "        text-align: right;\n",
       "    }\n",
       "</style>\n",
       "<table border=\"1\" class=\"dataframe\">\n",
       "  <thead>\n",
       "    <tr style=\"text-align: right;\">\n",
       "      <th></th>\n",
       "      <th>customerID</th>\n",
       "      <th>gender</th>\n",
       "      <th>SeniorCitizen</th>\n",
       "      <th>Partner</th>\n",
       "      <th>Dependents</th>\n",
       "      <th>tenure</th>\n",
       "      <th>PhoneService</th>\n",
       "      <th>MultipleLines</th>\n",
       "      <th>InternetService</th>\n",
       "      <th>OnlineSecurity</th>\n",
       "      <th>...</th>\n",
       "      <th>DeviceProtection</th>\n",
       "      <th>TechSupport</th>\n",
       "      <th>StreamingTV</th>\n",
       "      <th>StreamingMovies</th>\n",
       "      <th>Contract</th>\n",
       "      <th>PaperlessBilling</th>\n",
       "      <th>PaymentMethod</th>\n",
       "      <th>MonthlyCharges</th>\n",
       "      <th>TotalCharges</th>\n",
       "      <th>Churn</th>\n",
       "    </tr>\n",
       "  </thead>\n",
       "  <tbody>\n",
       "    <tr>\n",
       "      <th>0</th>\n",
       "      <td>7590-VHVEG</td>\n",
       "      <td>Female</td>\n",
       "      <td>0</td>\n",
       "      <td>Yes</td>\n",
       "      <td>No</td>\n",
       "      <td>1</td>\n",
       "      <td>No</td>\n",
       "      <td>No phone service</td>\n",
       "      <td>DSL</td>\n",
       "      <td>No</td>\n",
       "      <td>...</td>\n",
       "      <td>No</td>\n",
       "      <td>No</td>\n",
       "      <td>No</td>\n",
       "      <td>No</td>\n",
       "      <td>Month-to-month</td>\n",
       "      <td>Yes</td>\n",
       "      <td>Electronic check</td>\n",
       "      <td>29.85</td>\n",
       "      <td>29.85</td>\n",
       "      <td>No</td>\n",
       "    </tr>\n",
       "    <tr>\n",
       "      <th>1</th>\n",
       "      <td>5575-GNVDE</td>\n",
       "      <td>Male</td>\n",
       "      <td>0</td>\n",
       "      <td>No</td>\n",
       "      <td>No</td>\n",
       "      <td>34</td>\n",
       "      <td>Yes</td>\n",
       "      <td>No</td>\n",
       "      <td>DSL</td>\n",
       "      <td>Yes</td>\n",
       "      <td>...</td>\n",
       "      <td>Yes</td>\n",
       "      <td>No</td>\n",
       "      <td>No</td>\n",
       "      <td>No</td>\n",
       "      <td>One year</td>\n",
       "      <td>No</td>\n",
       "      <td>Mailed check</td>\n",
       "      <td>56.95</td>\n",
       "      <td>1889.5</td>\n",
       "      <td>No</td>\n",
       "    </tr>\n",
       "    <tr>\n",
       "      <th>2</th>\n",
       "      <td>3668-QPYBK</td>\n",
       "      <td>Male</td>\n",
       "      <td>0</td>\n",
       "      <td>No</td>\n",
       "      <td>No</td>\n",
       "      <td>2</td>\n",
       "      <td>Yes</td>\n",
       "      <td>No</td>\n",
       "      <td>DSL</td>\n",
       "      <td>Yes</td>\n",
       "      <td>...</td>\n",
       "      <td>No</td>\n",
       "      <td>No</td>\n",
       "      <td>No</td>\n",
       "      <td>No</td>\n",
       "      <td>Month-to-month</td>\n",
       "      <td>Yes</td>\n",
       "      <td>Mailed check</td>\n",
       "      <td>53.85</td>\n",
       "      <td>108.15</td>\n",
       "      <td>Yes</td>\n",
       "    </tr>\n",
       "    <tr>\n",
       "      <th>3</th>\n",
       "      <td>7795-CFOCW</td>\n",
       "      <td>Male</td>\n",
       "      <td>0</td>\n",
       "      <td>No</td>\n",
       "      <td>No</td>\n",
       "      <td>45</td>\n",
       "      <td>No</td>\n",
       "      <td>No phone service</td>\n",
       "      <td>DSL</td>\n",
       "      <td>Yes</td>\n",
       "      <td>...</td>\n",
       "      <td>Yes</td>\n",
       "      <td>Yes</td>\n",
       "      <td>No</td>\n",
       "      <td>No</td>\n",
       "      <td>One year</td>\n",
       "      <td>No</td>\n",
       "      <td>Bank transfer (automatic)</td>\n",
       "      <td>42.30</td>\n",
       "      <td>1840.75</td>\n",
       "      <td>No</td>\n",
       "    </tr>\n",
       "    <tr>\n",
       "      <th>4</th>\n",
       "      <td>9237-HQITU</td>\n",
       "      <td>Female</td>\n",
       "      <td>0</td>\n",
       "      <td>No</td>\n",
       "      <td>No</td>\n",
       "      <td>2</td>\n",
       "      <td>Yes</td>\n",
       "      <td>No</td>\n",
       "      <td>Fiber optic</td>\n",
       "      <td>No</td>\n",
       "      <td>...</td>\n",
       "      <td>No</td>\n",
       "      <td>No</td>\n",
       "      <td>No</td>\n",
       "      <td>No</td>\n",
       "      <td>Month-to-month</td>\n",
       "      <td>Yes</td>\n",
       "      <td>Electronic check</td>\n",
       "      <td>70.70</td>\n",
       "      <td>151.65</td>\n",
       "      <td>Yes</td>\n",
       "    </tr>\n",
       "  </tbody>\n",
       "</table>\n",
       "<p>5 rows × 21 columns</p>\n",
       "</div>"
      ],
      "text/plain": [
       "   customerID  gender  SeniorCitizen Partner Dependents  tenure PhoneService  \\\n",
       "0  7590-VHVEG  Female              0     Yes         No       1           No   \n",
       "1  5575-GNVDE    Male              0      No         No      34          Yes   \n",
       "2  3668-QPYBK    Male              0      No         No       2          Yes   \n",
       "3  7795-CFOCW    Male              0      No         No      45           No   \n",
       "4  9237-HQITU  Female              0      No         No       2          Yes   \n",
       "\n",
       "      MultipleLines InternetService OnlineSecurity  ... DeviceProtection  \\\n",
       "0  No phone service             DSL             No  ...               No   \n",
       "1                No             DSL            Yes  ...              Yes   \n",
       "2                No             DSL            Yes  ...               No   \n",
       "3  No phone service             DSL            Yes  ...              Yes   \n",
       "4                No     Fiber optic             No  ...               No   \n",
       "\n",
       "  TechSupport StreamingTV StreamingMovies        Contract PaperlessBilling  \\\n",
       "0          No          No              No  Month-to-month              Yes   \n",
       "1          No          No              No        One year               No   \n",
       "2          No          No              No  Month-to-month              Yes   \n",
       "3         Yes          No              No        One year               No   \n",
       "4          No          No              No  Month-to-month              Yes   \n",
       "\n",
       "               PaymentMethod MonthlyCharges  TotalCharges Churn  \n",
       "0           Electronic check          29.85         29.85    No  \n",
       "1               Mailed check          56.95        1889.5    No  \n",
       "2               Mailed check          53.85        108.15   Yes  \n",
       "3  Bank transfer (automatic)          42.30       1840.75    No  \n",
       "4           Electronic check          70.70        151.65   Yes  \n",
       "\n",
       "[5 rows x 21 columns]"
      ]
     },
     "execution_count": 43,
     "metadata": {},
     "output_type": "execute_result"
    }
   ],
   "source": [
    "# Loading dataset\n",
    "\n",
    "df = pd.read_csv(\"churn_dataset.csv\")\n",
    "df.head()"
   ]
  },
  {
   "cell_type": "markdown",
   "metadata": {},
   "source": [
    "#### Data Exploration"
   ]
  },
  {
   "cell_type": "code",
   "execution_count": 44,
   "metadata": {},
   "outputs": [
    {
     "name": "stdout",
     "output_type": "stream",
     "text": [
      "<class 'pandas.core.frame.DataFrame'>\n",
      "RangeIndex: 7043 entries, 0 to 7042\n",
      "Data columns (total 20 columns):\n",
      " #   Column            Non-Null Count  Dtype  \n",
      "---  ------            --------------  -----  \n",
      " 0   gender            7043 non-null   object \n",
      " 1   SeniorCitizen     7043 non-null   int64  \n",
      " 2   Partner           7043 non-null   object \n",
      " 3   Dependents        7043 non-null   object \n",
      " 4   tenure            7043 non-null   int64  \n",
      " 5   PhoneService      7043 non-null   object \n",
      " 6   MultipleLines     7043 non-null   object \n",
      " 7   InternetService   7043 non-null   object \n",
      " 8   OnlineSecurity    7043 non-null   object \n",
      " 9   OnlineBackup      7043 non-null   object \n",
      " 10  DeviceProtection  7043 non-null   object \n",
      " 11  TechSupport       7043 non-null   object \n",
      " 12  StreamingTV       7043 non-null   object \n",
      " 13  StreamingMovies   7043 non-null   object \n",
      " 14  Contract          7043 non-null   object \n",
      " 15  PaperlessBilling  7043 non-null   object \n",
      " 16  PaymentMethod     7043 non-null   object \n",
      " 17  MonthlyCharges    7043 non-null   float64\n",
      " 18  TotalCharges      7043 non-null   object \n",
      " 19  Churn             7043 non-null   object \n",
      "dtypes: float64(1), int64(2), object(17)\n",
      "memory usage: 1.1+ MB\n"
     ]
    }
   ],
   "source": [
    "df.drop('customerID', axis='columns', inplace=True)\n",
    "df.info()"
   ]
  },
  {
   "cell_type": "code",
   "execution_count": 50,
   "metadata": {},
   "outputs": [],
   "source": [
    "# Converting data type of totalcharges from object(string) to float\n",
    "\n",
    "df['TotalCharges'] = pd.to_numeric(df['TotalCharges'], errors='coerce')"
   ]
  },
  {
   "cell_type": "code",
   "execution_count": 54,
   "metadata": {},
   "outputs": [],
   "source": [
    "df['TotalCharges'] = df['TotalCharges'].fillna(value=0)"
   ]
  },
  {
   "cell_type": "markdown",
   "metadata": {},
   "source": [
    "#### Data Cleaning"
   ]
  },
  {
   "cell_type": "code",
   "execution_count": 70,
   "metadata": {},
   "outputs": [
    {
     "name": "stdout",
     "output_type": "stream",
     "text": [
      "gender: ['Female' 'Male']\n",
      "Partner: ['Yes' 'No']\n",
      "Dependents: ['No' 'Yes']\n",
      "PhoneService: ['No' 'Yes']\n",
      "MultipleLines: ['No phone service' 'No' 'Yes']\n",
      "InternetService: ['DSL' 'Fiber optic' 'No']\n",
      "OnlineSecurity: ['No' 'Yes' 'No internet service']\n",
      "OnlineBackup: ['Yes' 'No' 'No internet service']\n",
      "DeviceProtection: ['No' 'Yes' 'No internet service']\n",
      "TechSupport: ['No' 'Yes' 'No internet service']\n",
      "StreamingTV: ['No' 'Yes' 'No internet service']\n",
      "StreamingMovies: ['No' 'Yes' 'No internet service']\n",
      "Contract: ['Month-to-month' 'One year' 'Two year']\n",
      "PaperlessBilling: ['Yes' 'No']\n",
      "PaymentMethod: ['Electronic check' 'Mailed check' 'Bank transfer (automatic)'\n",
      " 'Credit card (automatic)']\n",
      "Churn: ['No' 'Yes']\n"
     ]
    }
   ],
   "source": [
    "for column in df:\n",
    "    if df[column].dtypes == \"object\":\n",
    "        print(f'{column}: {df[column].unique()}')"
   ]
  },
  {
   "cell_type": "code",
   "execution_count": 71,
   "metadata": {},
   "outputs": [],
   "source": [
    "df.replace(\"No internet service\", \"No\", inplace=True)\n",
    "df.replace(\"No phone service\", \"No\", inplace=True)"
   ]
  },
  {
   "cell_type": "code",
   "execution_count": 73,
   "metadata": {},
   "outputs": [],
   "source": [
    "# Converting string values to boolean/int values\n",
    "\n",
    "labelEncoder = LabelEncoder()\n",
    "\n",
    "for column in df:\n",
    "    if df[column].dtypes == \"object\" and len(df[column].unique()) == 2:\n",
    "        df[column] = labelEncoder.fit_transform(df[column])"
   ]
  },
  {
   "cell_type": "code",
   "execution_count": 82,
   "metadata": {},
   "outputs": [
    {
     "data": {
      "text/plain": [
       "Index(['gender', 'SeniorCitizen', 'Partner', 'Dependents', 'tenure',\n",
       "       'PhoneService', 'MultipleLines', 'OnlineSecurity', 'OnlineBackup',\n",
       "       'DeviceProtection', 'TechSupport', 'StreamingTV', 'StreamingMovies',\n",
       "       'PaperlessBilling', 'MonthlyCharges', 'TotalCharges', 'Churn',\n",
       "       'InternetService_DSL', 'InternetService_Fiber optic',\n",
       "       'InternetService_No', 'Contract_Month-to-month', 'Contract_One year',\n",
       "       'Contract_Two year', 'PaymentMethod_Bank transfer (automatic)',\n",
       "       'PaymentMethod_Credit card (automatic)',\n",
       "       'PaymentMethod_Electronic check', 'PaymentMethod_Mailed check'],\n",
       "      dtype='object')"
      ]
     },
     "execution_count": 82,
     "metadata": {},
     "output_type": "execute_result"
    }
   ],
   "source": [
    "# One hot encoding for columns with more than 2 unique values\n",
    "\n",
    "df = pd.get_dummies(data=df, columns=['InternetService', 'Contract', 'PaymentMethod'])\n",
    "df.columns"
   ]
  },
  {
   "cell_type": "markdown",
   "metadata": {},
   "source": [
    "#### Data Visualization"
   ]
  },
  {
   "cell_type": "code",
   "execution_count": 76,
   "metadata": {},
   "outputs": [
    {
     "name": "stderr",
     "output_type": "stream",
     "text": [
      "/home/rutvik/anaconda3/lib/python3.8/site-packages/numpy/core/_asarray.py:83: VisibleDeprecationWarning: Creating an ndarray from ragged nested sequences (which is a list-or-tuple of lists-or-tuples-or ndarrays with different lengths or shapes) is deprecated. If you meant to do this, you must specify 'dtype=object' when creating the ndarray\n",
      "  return array(a, dtype, copy=False, order=order)\n"
     ]
    },
    {
     "data": {
      "image/png": "[encoded data removed]",
      "text/plain": [
       "<Figure size 720x576 with 1 Axes>"
      ]
     },
     "metadata": {
      "needs_background": "light"
     },
     "output_type": "display_data"
    }
   ],
   "source": [
    "tenure_churn_no = df[df[\"Churn\"] == 0][\"tenure\"]\n",
    "tenure_churn_yes = df[df[\"Churn\"] == 1][\"tenure\"]\n",
    "\n",
    "plt.figure(figsize=(10, 8))\n",
    "plt.hist([tenure_churn_yes, tenure_churn_no], color=['green', 'red'], label=[\"Churn=Yes\", \"Churn=No\"])\n",
    "plt.xlabel(\"Tenure\")\n",
    "plt.ylabel(\"No of customers\")\n",
    "plt.title(\"Tenure - Churn Visualization\")\n",
    "plt.legend()\n",
    "plt.show()"
   ]
  },
  {
   "cell_type": "code",
   "execution_count": 77,
   "metadata": {},
   "outputs": [
    {
     "data": {
      "image/png": "[encoded data removed]",
      "text/plain": [
       "<Figure size 720x576 with 1 Axes>"
      ]
     },
     "metadata": {
      "needs_background": "light"
     },
     "output_type": "display_data"
    }
   ],
   "source": [
    "mc_churn_no = df[df[\"Churn\"] == 0][\"MonthlyCharges\"]\n",
    "mc_churn_yes = df[df[\"Churn\"] == 1][\"MonthlyCharges\"]\n",
    "\n",
    "plt.figure(figsize=(10, 8))\n",
    "plt.hist([mc_churn_yes, mc_churn_no], color=['green', 'red'], label=[\"Churn=Yes\", \"Churn=No\"])\n",
    "plt.xlabel(\"Monthly Charges\")\n",
    "plt.ylabel(\"No of customers\")\n",
    "plt.title(\"MonthlyCharges - Churn Visualization\")\n",
    "plt.legend()\n",
    "plt.show()"
   ]
  },
  {
   "cell_type": "markdown",
   "metadata": {},
   "source": [
    "#### Data Scaling"
   ]
  },
  {
   "cell_type": "code",
   "execution_count": 86,
   "metadata": {},
   "outputs": [],
   "source": [
    "cols_to_scale = [\"tenure\", \"MonthlyCharges\", \"TotalCharges\"]\n",
    "\n",
    "scaler = MinMaxScaler()\n",
    "\n",
    "df[cols_to_scale] = scaler.fit_transform(df[cols_to_scale])"
   ]
  },
  {
   "cell_type": "markdown",
   "metadata": {},
   "source": [
    "#### Creating and training model"
   ]
  },
  {
   "cell_type": "code",
   "execution_count": 89,
   "metadata": {},
   "outputs": [],
   "source": [
    "X = df.drop(\"Churn\", axis=\"columns\")\n",
    "y = df[\"Churn\"]\n",
    "\n",
    "X_train, X_test, y_train, y_test = train_test_split(X, y, test_size=0.2, random_state=5)"
   ]
  },
  {
   "cell_type": "code",
   "execution_count": 90,
   "metadata": {},
   "outputs": [
    {
     "data": {
      "text/plain": [
       "((5634, 26), (1409, 26))"
      ]
     },
     "execution_count": 90,
     "metadata": {},
     "output_type": "execute_result"
    }
   ],
   "source": [
    "X_train.shape, X_test.shape"
   ]
  },
  {
   "cell_type": "code",
   "execution_count": 96,
   "metadata": {},
   "outputs": [
    {
     "name": "stdout",
     "output_type": "stream",
     "text": [
      "Epoch 1/100\n",
      "177/177 [==============================] - 1s 1ms/step - loss: 0.5273 - accuracy: 0.7330\n",
      "Epoch 2/100\n",
      "177/177 [==============================] - 0s 1ms/step - loss: 0.4350 - accuracy: 0.7881\n",
      "Epoch 3/100\n",
      "177/177 [==============================] - 0s 1ms/step - loss: 0.4261 - accuracy: 0.7969\n",
      "Epoch 4/100\n",
      "177/177 [==============================] - 0s 1ms/step - loss: 0.4207 - accuracy: 0.7998\n",
      "Epoch 5/100\n",
      "177/177 [==============================] - 0s 1ms/step - loss: 0.4177 - accuracy: 0.8055\n",
      "Epoch 6/100\n",
      "177/177 [==============================] - 0s 1ms/step - loss: 0.4166 - accuracy: 0.8030\n",
      "Epoch 7/100\n",
      "177/177 [==============================] - 0s 1ms/step - loss: 0.4131 - accuracy: 0.8080\n",
      "Epoch 8/100\n",
      "177/177 [==============================] - 0s 1ms/step - loss: 0.4124 - accuracy: 0.8056\n",
      "Epoch 9/100\n",
      "177/177 [==============================] - 0s 1ms/step - loss: 0.4108 - accuracy: 0.8081\n",
      "Epoch 10/100\n",
      "177/177 [==============================] - 0s 1ms/step - loss: 0.4091 - accuracy: 0.8087\n",
      "Epoch 11/100\n",
      "177/177 [==============================] - 0s 1ms/step - loss: 0.4078 - accuracy: 0.8113\n",
      "Epoch 12/100\n",
      "177/177 [==============================] - 0s 1ms/step - loss: 0.4072 - accuracy: 0.8108\n",
      "Epoch 13/100\n",
      "177/177 [==============================] - 0s 1ms/step - loss: 0.4060 - accuracy: 0.8117\n",
      "Epoch 14/100\n",
      "177/177 [==============================] - 0s 1ms/step - loss: 0.4059 - accuracy: 0.8104\n",
      "Epoch 15/100\n",
      "177/177 [==============================] - 0s 1ms/step - loss: 0.4038 - accuracy: 0.8129\n",
      "Epoch 16/100\n",
      "177/177 [==============================] - 0s 1ms/step - loss: 0.4035 - accuracy: 0.8143\n",
      "Epoch 17/100\n",
      "177/177 [==============================] - 0s 1ms/step - loss: 0.4034 - accuracy: 0.8135\n",
      "Epoch 18/100\n",
      "177/177 [==============================] - 0s 1ms/step - loss: 0.4013 - accuracy: 0.8142\n",
      "Epoch 19/100\n",
      "177/177 [==============================] - 0s 1ms/step - loss: 0.4017 - accuracy: 0.8117\n",
      "Epoch 20/100\n",
      "177/177 [==============================] - 0s 1ms/step - loss: 0.4015 - accuracy: 0.8122\n",
      "Epoch 21/100\n",
      "177/177 [==============================] - 0s 1ms/step - loss: 0.3991 - accuracy: 0.8140\n",
      "Epoch 22/100\n",
      "177/177 [==============================] - 0s 2ms/step - loss: 0.3985 - accuracy: 0.8154\n",
      "Epoch 23/100\n",
      "177/177 [==============================] - 0s 1ms/step - loss: 0.3980 - accuracy: 0.8142\n",
      "Epoch 24/100\n",
      "177/177 [==============================] - 0s 1ms/step - loss: 0.3977 - accuracy: 0.8161\n",
      "Epoch 25/100\n",
      "177/177 [==============================] - 0s 1ms/step - loss: 0.3965 - accuracy: 0.8163\n",
      "Epoch 26/100\n",
      "177/177 [==============================] - 0s 919us/step - loss: 0.3970 - accuracy: 0.8133\n",
      "Epoch 27/100\n",
      "177/177 [==============================] - 0s 1ms/step - loss: 0.3946 - accuracy: 0.8158\n",
      "Epoch 28/100\n",
      "177/177 [==============================] - 0s 1ms/step - loss: 0.3952 - accuracy: 0.8127\n",
      "Epoch 29/100\n",
      "177/177 [==============================] - 0s 1ms/step - loss: 0.3940 - accuracy: 0.8135\n",
      "Epoch 30/100\n",
      "177/177 [==============================] - 0s 1ms/step - loss: 0.3936 - accuracy: 0.8166\n",
      "Epoch 31/100\n",
      "177/177 [==============================] - 0s 1ms/step - loss: 0.3938 - accuracy: 0.8117\n",
      "Epoch 32/100\n",
      "177/177 [==============================] - 0s 1ms/step - loss: 0.3923 - accuracy: 0.8165\n",
      "Epoch 33/100\n",
      "177/177 [==============================] - 0s 1ms/step - loss: 0.3931 - accuracy: 0.8126\n",
      "Epoch 34/100\n",
      "177/177 [==============================] - 0s 1ms/step - loss: 0.3910 - accuracy: 0.8147\n",
      "Epoch 35/100\n",
      "177/177 [==============================] - 0s 1ms/step - loss: 0.3918 - accuracy: 0.8151\n",
      "Epoch 36/100\n",
      "177/177 [==============================] - 0s 1ms/step - loss: 0.3909 - accuracy: 0.8177\n",
      "Epoch 37/100\n",
      "177/177 [==============================] - 0s 1ms/step - loss: 0.3896 - accuracy: 0.8159\n",
      "Epoch 38/100\n",
      "177/177 [==============================] - 0s 1ms/step - loss: 0.3892 - accuracy: 0.8186\n",
      "Epoch 39/100\n",
      "177/177 [==============================] - 0s 1ms/step - loss: 0.3886 - accuracy: 0.8165\n",
      "Epoch 40/100\n",
      "177/177 [==============================] - 0s 1ms/step - loss: 0.3884 - accuracy: 0.8163\n",
      "Epoch 41/100\n",
      "177/177 [==============================] - 0s 1ms/step - loss: 0.3896 - accuracy: 0.8135\n",
      "Epoch 42/100\n",
      "177/177 [==============================] - 0s 1ms/step - loss: 0.3874 - accuracy: 0.8174\n",
      "Epoch 43/100\n",
      "177/177 [==============================] - 0s 1ms/step - loss: 0.3860 - accuracy: 0.8170\n",
      "Epoch 44/100\n",
      "177/177 [==============================] - 0s 1ms/step - loss: 0.3864 - accuracy: 0.8174\n",
      "Epoch 45/100\n",
      "177/177 [==============================] - 0s 966us/step - loss: 0.3885 - accuracy: 0.8168\n",
      "Epoch 46/100\n",
      "177/177 [==============================] - 0s 1ms/step - loss: 0.3862 - accuracy: 0.8177\n",
      "Epoch 47/100\n",
      "177/177 [==============================] - 0s 1ms/step - loss: 0.3847 - accuracy: 0.8188\n",
      "Epoch 48/100\n",
      "177/177 [==============================] - 0s 2ms/step - loss: 0.3852 - accuracy: 0.8186\n",
      "Epoch 49/100\n",
      "177/177 [==============================] - 0s 1ms/step - loss: 0.3844 - accuracy: 0.8154\n",
      "Epoch 50/100\n",
      "177/177 [==============================] - 0s 1ms/step - loss: 0.3835 - accuracy: 0.8149\n",
      "Epoch 51/100\n",
      "177/177 [==============================] - 0s 1ms/step - loss: 0.3833 - accuracy: 0.8166\n",
      "Epoch 52/100\n",
      "177/177 [==============================] - 0s 1ms/step - loss: 0.3826 - accuracy: 0.8195\n",
      "Epoch 53/100\n",
      "177/177 [==============================] - 0s 1ms/step - loss: 0.3821 - accuracy: 0.8172\n",
      "Epoch 54/100\n",
      "177/177 [==============================] - 0s 1ms/step - loss: 0.3814 - accuracy: 0.8200\n",
      "Epoch 55/100\n",
      "177/177 [==============================] - 0s 1ms/step - loss: 0.3829 - accuracy: 0.8168\n",
      "Epoch 56/100\n",
      "177/177 [==============================] - 0s 1ms/step - loss: 0.3803 - accuracy: 0.8193\n",
      "Epoch 57/100\n",
      "177/177 [==============================] - 0s 1ms/step - loss: 0.3809 - accuracy: 0.8188\n",
      "Epoch 58/100\n",
      "177/177 [==============================] - 0s 1ms/step - loss: 0.3802 - accuracy: 0.8184\n",
      "Epoch 59/100\n",
      "177/177 [==============================] - 0s 1ms/step - loss: 0.3799 - accuracy: 0.8200\n",
      "Epoch 60/100\n",
      "177/177 [==============================] - 0s 1ms/step - loss: 0.3780 - accuracy: 0.8190\n",
      "Epoch 61/100\n",
      "177/177 [==============================] - 0s 1ms/step - loss: 0.3783 - accuracy: 0.8213\n",
      "Epoch 62/100\n",
      "177/177 [==============================] - 0s 988us/step - loss: 0.3787 - accuracy: 0.8206\n",
      "Epoch 63/100\n",
      "177/177 [==============================] - 0s 1ms/step - loss: 0.3776 - accuracy: 0.8184\n",
      "Epoch 64/100\n",
      "177/177 [==============================] - 0s 1ms/step - loss: 0.3769 - accuracy: 0.8218\n",
      "Epoch 65/100\n",
      "177/177 [==============================] - 0s 1ms/step - loss: 0.3778 - accuracy: 0.8188\n",
      "Epoch 66/100\n",
      "177/177 [==============================] - 0s 1ms/step - loss: 0.3764 - accuracy: 0.8184\n",
      "Epoch 67/100\n",
      "177/177 [==============================] - 0s 1ms/step - loss: 0.3759 - accuracy: 0.8182\n",
      "Epoch 68/100\n",
      "177/177 [==============================] - 0s 1ms/step - loss: 0.3755 - accuracy: 0.8223\n",
      "Epoch 69/100\n",
      "177/177 [==============================] - 0s 1ms/step - loss: 0.3745 - accuracy: 0.8182\n",
      "Epoch 70/100\n",
      "177/177 [==============================] - 0s 1ms/step - loss: 0.3757 - accuracy: 0.8204\n",
      "Epoch 71/100\n",
      "177/177 [==============================] - 0s 1ms/step - loss: 0.3752 - accuracy: 0.8227\n",
      "Epoch 72/100\n",
      "177/177 [==============================] - 0s 960us/step - loss: 0.3735 - accuracy: 0.8239\n",
      "Epoch 73/100\n",
      "177/177 [==============================] - 0s 976us/step - loss: 0.3728 - accuracy: 0.8218\n",
      "Epoch 74/100\n",
      "177/177 [==============================] - 0s 1ms/step - loss: 0.3721 - accuracy: 0.8232\n",
      "Epoch 75/100\n",
      "177/177 [==============================] - 0s 1ms/step - loss: 0.3731 - accuracy: 0.8207\n",
      "Epoch 76/100\n",
      "177/177 [==============================] - 0s 1ms/step - loss: 0.3727 - accuracy: 0.8232\n",
      "Epoch 77/100\n",
      "177/177 [==============================] - 0s 1ms/step - loss: 0.3724 - accuracy: 0.8211\n",
      "Epoch 78/100\n",
      "177/177 [==============================] - 0s 1ms/step - loss: 0.3723 - accuracy: 0.8197\n",
      "Epoch 79/100\n",
      "177/177 [==============================] - 0s 1ms/step - loss: 0.3701 - accuracy: 0.8239\n",
      "Epoch 80/100\n",
      "177/177 [==============================] - 0s 1ms/step - loss: 0.3712 - accuracy: 0.8227\n",
      "Epoch 81/100\n"
     ]
    },
    {
     "name": "stdout",
     "output_type": "stream",
     "text": [
      "177/177 [==============================] - 0s 1ms/step - loss: 0.3717 - accuracy: 0.8232\n",
      "Epoch 82/100\n",
      "177/177 [==============================] - 0s 1ms/step - loss: 0.3701 - accuracy: 0.8188\n",
      "Epoch 83/100\n",
      "177/177 [==============================] - 0s 1ms/step - loss: 0.3698 - accuracy: 0.8234\n",
      "Epoch 84/100\n",
      "177/177 [==============================] - 0s 1ms/step - loss: 0.3687 - accuracy: 0.8255\n",
      "Epoch 85/100\n",
      "177/177 [==============================] - 0s 1ms/step - loss: 0.3693 - accuracy: 0.8230\n",
      "Epoch 86/100\n",
      "177/177 [==============================] - 0s 1ms/step - loss: 0.3683 - accuracy: 0.8243\n",
      "Epoch 87/100\n",
      "177/177 [==============================] - 0s 1ms/step - loss: 0.3693 - accuracy: 0.8223\n",
      "Epoch 88/100\n",
      "177/177 [==============================] - 0s 2ms/step - loss: 0.3666 - accuracy: 0.8253\n",
      "Epoch 89/100\n",
      "177/177 [==============================] - 0s 2ms/step - loss: 0.3690 - accuracy: 0.8241\n",
      "Epoch 90/100\n",
      "177/177 [==============================] - 0s 1ms/step - loss: 0.3670 - accuracy: 0.8241\n",
      "Epoch 91/100\n",
      "177/177 [==============================] - 0s 1ms/step - loss: 0.3663 - accuracy: 0.8278\n",
      "Epoch 92/100\n",
      "177/177 [==============================] - 0s 1ms/step - loss: 0.3665 - accuracy: 0.8237\n",
      "Epoch 93/100\n",
      "177/177 [==============================] - 0s 1ms/step - loss: 0.3660 - accuracy: 0.8275\n",
      "Epoch 94/100\n",
      "177/177 [==============================] - 0s 1ms/step - loss: 0.3658 - accuracy: 0.8257\n",
      "Epoch 95/100\n",
      "177/177 [==============================] - 0s 1ms/step - loss: 0.3667 - accuracy: 0.8257\n",
      "Epoch 96/100\n",
      "177/177 [==============================] - 0s 1ms/step - loss: 0.3652 - accuracy: 0.8229\n",
      "Epoch 97/100\n",
      "177/177 [==============================] - 0s 1ms/step - loss: 0.3641 - accuracy: 0.8266\n",
      "Epoch 98/100\n",
      "177/177 [==============================] - 0s 1ms/step - loss: 0.3643 - accuracy: 0.8257\n",
      "Epoch 99/100\n",
      "177/177 [==============================] - 0s 1ms/step - loss: 0.3649 - accuracy: 0.8250\n",
      "Epoch 100/100\n",
      "177/177 [==============================] - 0s 1ms/step - loss: 0.3645 - accuracy: 0.8268\n"
     ]
    },
    {
     "data": {
      "text/plain": [
       "<keras.callbacks.History at 0x7fbb64727a30>"
      ]
     },
     "execution_count": 96,
     "metadata": {},
     "output_type": "execute_result"
    }
   ],
   "source": [
    "# Creating NN Model\n",
    "\n",
    "model = keras.Sequential([\n",
    "    keras.layers.Dense(20, input_shape=(26,), activation='relu'),  # keras.layers.Dense(output_shape, input_shape, activation_function)\n",
    "    keras.layers.Dense(20, activation='relu'),  # keras.layers.Dense(output_shape, activation_function) - no input_shape required\n",
    "    keras.layers.Dense(1, activation=\"sigmoid\")\n",
    "])\n",
    "\n",
    "model.compile(\n",
    "    optimizer=\"adam\",\n",
    "    loss=\"binary_crossentropy\",\n",
    "    metrics=[\"accuracy\"]\n",
    ")\n",
    "\n",
    "model.fit(X_train, y_train, epochs=100)"
   ]
  },
  {
   "cell_type": "code",
   "execution_count": 98,
   "metadata": {},
   "outputs": [
    {
     "name": "stdout",
     "output_type": "stream",
     "text": [
      "45/45 [==============================] - 0s 759us/step - loss: 0.4727 - accuracy: 0.7842\n"
     ]
    },
    {
     "data": {
      "text/plain": [
       "(0.4726699888706207, 78.42441201210022)"
      ]
     },
     "execution_count": 98,
     "metadata": {},
     "output_type": "execute_result"
    }
   ],
   "source": [
    "# Loss and accuracy on test values\n",
    "\n",
    "loss, accuracy = model.evaluate(X_test, y_test)\n",
    "\n",
    "loss, accuracy*100"
   ]
  },
  {
   "cell_type": "code",
   "execution_count": 111,
   "metadata": {},
   "outputs": [],
   "source": [
    "yp = model.predict(X_test)\n",
    "\n",
    "y_pred = []\n",
    "\n",
    "for e in yp:\n",
    "    if e > 0.5:\n",
    "        y_pred.append(1)\n",
    "    else:\n",
    "        y_pred.append(0)"
   ]
  },
  {
   "cell_type": "code",
   "execution_count": 112,
   "metadata": {},
   "outputs": [
    {
     "name": "stdout",
     "output_type": "stream",
     "text": [
      "              precision    recall  f1-score   support\n",
      "\n",
      "           0       0.83      0.88      0.86      1023\n",
      "           1       0.62      0.53      0.58       386\n",
      "\n",
      "    accuracy                           0.78      1409\n",
      "   macro avg       0.73      0.71      0.72      1409\n",
      "weighted avg       0.78      0.78      0.78      1409\n",
      "\n"
     ]
    }
   ],
   "source": [
    "print(classification_report(y_test, y_pred))"
   ]
  },
  {
   "cell_type": "code",
   "execution_count": 113,
   "metadata": {},
   "outputs": [
    {
     "data": {
      "image/png": "[encoded data removed]",
      "text/plain": [
       "<Figure size 720x504 with 2 Axes>"
      ]
     },
     "metadata": {
      "needs_background": "light"
     },
     "output_type": "display_data"
    }
   ],
   "source": [
    "cm = tf.math.confusion_matrix(labels=y_test, predictions=y_pred)\n",
    "\n",
    "plt.figure(figsize=(10,7))\n",
    "sns.heatmap(cm, annot=True, fmt='d')\n",
    "plt.xlabel(\"Predicted\")\n",
    "plt.ylabel(\"Truth\")\n",
    "plt.show()"
   ]
  },
  {
   "cell_type": "code",
   "execution_count": null,
   "metadata": {},
   "outputs": [],
   "source": []
  }
 ],
 "metadata": {
  "kernelspec": {
   "display_name": "Python 3",
   "language": "python",
   "name": "python3"
  },
  "language_info": {
   "codemirror_mode": {
    "name": "ipython",
    "version": 3
   },
   "file_extension": ".py",
   "mimetype": "text/x-python",
   "name": "python",
   "nbconvert_exporter": "python",
   "pygments_lexer": "ipython3",
   "version": "3.8.3"
  }
 },
 "nbformat": 4,
 "nbformat_minor": 4
}
