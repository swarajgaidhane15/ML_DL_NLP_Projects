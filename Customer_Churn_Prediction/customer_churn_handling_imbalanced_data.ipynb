{
 "cells": [
  {
   "cell_type": "markdown",
   "metadata": {},
   "source": [
    "#### Churn - Leave / Transfer from a particular company/firm"
   ]
  },
  {
   "cell_type": "code",
   "execution_count": 1,
   "metadata": {},
   "outputs": [],
   "source": [
    "# Importing necessary libraries\n",
    "\n",
    "import numpy as np\n",
    "import pandas as pd\n",
    "import matplotlib.pyplot as plt\n",
    "%matplotlib inline\n",
    "from sklearn.preprocessing import LabelEncoder, MinMaxScaler\n",
    "from sklearn.model_selection import train_test_split\n",
    "from sklearn.metrics import confusion_matrix, classification_report\n",
    "import seaborn as sns\n",
    "\n",
    "# Libraries for Neural network\n",
    "import tensorflow as tf\n",
    "from tensorflow import keras"
   ]
  },
  {
   "cell_type": "code",
   "execution_count": 2,
   "metadata": {},
   "outputs": [
    {
     "data": {
      "text/html": [
       "<div>\n",
       "<style scoped>\n",
       "    .dataframe tbody tr th:only-of-type {\n",
       "        vertical-align: middle;\n",
       "    }\n",
       "\n",
       "    .dataframe tbody tr th {\n",
       "        vertical-align: top;\n",
       "    }\n",
       "\n",
       "    .dataframe thead th {\n",
       "        text-align: right;\n",
       "    }\n",
       "</style>\n",
       "<table border=\"1\" class=\"dataframe\">\n",
       "  <thead>\n",
       "    <tr style=\"text-align: right;\">\n",
       "      <th></th>\n",
       "      <th>customerID</th>\n",
       "      <th>gender</th>\n",
       "      <th>SeniorCitizen</th>\n",
       "      <th>Partner</th>\n",
       "      <th>Dependents</th>\n",
       "      <th>tenure</th>\n",
       "      <th>PhoneService</th>\n",
       "      <th>MultipleLines</th>\n",
       "      <th>InternetService</th>\n",
       "      <th>OnlineSecurity</th>\n",
       "      <th>...</th>\n",
       "      <th>DeviceProtection</th>\n",
       "      <th>TechSupport</th>\n",
       "      <th>StreamingTV</th>\n",
       "      <th>StreamingMovies</th>\n",
       "      <th>Contract</th>\n",
       "      <th>PaperlessBilling</th>\n",
       "      <th>PaymentMethod</th>\n",
       "      <th>MonthlyCharges</th>\n",
       "      <th>TotalCharges</th>\n",
       "      <th>Churn</th>\n",
       "    </tr>\n",
       "  </thead>\n",
       "  <tbody>\n",
       "    <tr>\n",
       "      <th>0</th>\n",
       "      <td>7590-VHVEG</td>\n",
       "      <td>Female</td>\n",
       "      <td>0</td>\n",
       "      <td>Yes</td>\n",
       "      <td>No</td>\n",
       "      <td>1</td>\n",
       "      <td>No</td>\n",
       "      <td>No phone service</td>\n",
       "      <td>DSL</td>\n",
       "      <td>No</td>\n",
       "      <td>...</td>\n",
       "      <td>No</td>\n",
       "      <td>No</td>\n",
       "      <td>No</td>\n",
       "      <td>No</td>\n",
       "      <td>Month-to-month</td>\n",
       "      <td>Yes</td>\n",
       "      <td>Electronic check</td>\n",
       "      <td>29.85</td>\n",
       "      <td>29.85</td>\n",
       "      <td>No</td>\n",
       "    </tr>\n",
       "    <tr>\n",
       "      <th>1</th>\n",
       "      <td>5575-GNVDE</td>\n",
       "      <td>Male</td>\n",
       "      <td>0</td>\n",
       "      <td>No</td>\n",
       "      <td>No</td>\n",
       "      <td>34</td>\n",
       "      <td>Yes</td>\n",
       "      <td>No</td>\n",
       "      <td>DSL</td>\n",
       "      <td>Yes</td>\n",
       "      <td>...</td>\n",
       "      <td>Yes</td>\n",
       "      <td>No</td>\n",
       "      <td>No</td>\n",
       "      <td>No</td>\n",
       "      <td>One year</td>\n",
       "      <td>No</td>\n",
       "      <td>Mailed check</td>\n",
       "      <td>56.95</td>\n",
       "      <td>1889.5</td>\n",
       "      <td>No</td>\n",
       "    </tr>\n",
       "    <tr>\n",
       "      <th>2</th>\n",
       "      <td>3668-QPYBK</td>\n",
       "      <td>Male</td>\n",
       "      <td>0</td>\n",
       "      <td>No</td>\n",
       "      <td>No</td>\n",
       "      <td>2</td>\n",
       "      <td>Yes</td>\n",
       "      <td>No</td>\n",
       "      <td>DSL</td>\n",
       "      <td>Yes</td>\n",
       "      <td>...</td>\n",
       "      <td>No</td>\n",
       "      <td>No</td>\n",
       "      <td>No</td>\n",
       "      <td>No</td>\n",
       "      <td>Month-to-month</td>\n",
       "      <td>Yes</td>\n",
       "      <td>Mailed check</td>\n",
       "      <td>53.85</td>\n",
       "      <td>108.15</td>\n",
       "      <td>Yes</td>\n",
       "    </tr>\n",
       "    <tr>\n",
       "      <th>3</th>\n",
       "      <td>7795-CFOCW</td>\n",
       "      <td>Male</td>\n",
       "      <td>0</td>\n",
       "      <td>No</td>\n",
       "      <td>No</td>\n",
       "      <td>45</td>\n",
       "      <td>No</td>\n",
       "      <td>No phone service</td>\n",
       "      <td>DSL</td>\n",
       "      <td>Yes</td>\n",
       "      <td>...</td>\n",
       "      <td>Yes</td>\n",
       "      <td>Yes</td>\n",
       "      <td>No</td>\n",
       "      <td>No</td>\n",
       "      <td>One year</td>\n",
       "      <td>No</td>\n",
       "      <td>Bank transfer (automatic)</td>\n",
       "      <td>42.30</td>\n",
       "      <td>1840.75</td>\n",
       "      <td>No</td>\n",
       "    </tr>\n",
       "    <tr>\n",
       "      <th>4</th>\n",
       "      <td>9237-HQITU</td>\n",
       "      <td>Female</td>\n",
       "      <td>0</td>\n",
       "      <td>No</td>\n",
       "      <td>No</td>\n",
       "      <td>2</td>\n",
       "      <td>Yes</td>\n",
       "      <td>No</td>\n",
       "      <td>Fiber optic</td>\n",
       "      <td>No</td>\n",
       "      <td>...</td>\n",
       "      <td>No</td>\n",
       "      <td>No</td>\n",
       "      <td>No</td>\n",
       "      <td>No</td>\n",
       "      <td>Month-to-month</td>\n",
       "      <td>Yes</td>\n",
       "      <td>Electronic check</td>\n",
       "      <td>70.70</td>\n",
       "      <td>151.65</td>\n",
       "      <td>Yes</td>\n",
       "    </tr>\n",
       "  </tbody>\n",
       "</table>\n",
       "<p>5 rows × 21 columns</p>\n",
       "</div>"
      ],
      "text/plain": [
       "   customerID  gender  SeniorCitizen Partner Dependents  tenure PhoneService  \\\n",
       "0  7590-VHVEG  Female              0     Yes         No       1           No   \n",
       "1  5575-GNVDE    Male              0      No         No      34          Yes   \n",
       "2  3668-QPYBK    Male              0      No         No       2          Yes   \n",
       "3  7795-CFOCW    Male              0      No         No      45           No   \n",
       "4  9237-HQITU  Female              0      No         No       2          Yes   \n",
       "\n",
       "      MultipleLines InternetService OnlineSecurity  ... DeviceProtection  \\\n",
       "0  No phone service             DSL             No  ...               No   \n",
       "1                No             DSL            Yes  ...              Yes   \n",
       "2                No             DSL            Yes  ...               No   \n",
       "3  No phone service             DSL            Yes  ...              Yes   \n",
       "4                No     Fiber optic             No  ...               No   \n",
       "\n",
       "  TechSupport StreamingTV StreamingMovies        Contract PaperlessBilling  \\\n",
       "0          No          No              No  Month-to-month              Yes   \n",
       "1          No          No              No        One year               No   \n",
       "2          No          No              No  Month-to-month              Yes   \n",
       "3         Yes          No              No        One year               No   \n",
       "4          No          No              No  Month-to-month              Yes   \n",
       "\n",
       "               PaymentMethod MonthlyCharges  TotalCharges Churn  \n",
       "0           Electronic check          29.85         29.85    No  \n",
       "1               Mailed check          56.95        1889.5    No  \n",
       "2               Mailed check          53.85        108.15   Yes  \n",
       "3  Bank transfer (automatic)          42.30       1840.75    No  \n",
       "4           Electronic check          70.70        151.65   Yes  \n",
       "\n",
       "[5 rows x 21 columns]"
      ]
     },
     "execution_count": 2,
     "metadata": {},
     "output_type": "execute_result"
    }
   ],
   "source": [
    "# Loading dataset\n",
    "\n",
    "df = pd.read_csv(\"churn_dataset.csv\")\n",
    "df.head()"
   ]
  },
  {
   "cell_type": "markdown",
   "metadata": {},
   "source": [
    "#### Data Exploration"
   ]
  },
  {
   "cell_type": "code",
   "execution_count": 3,
   "metadata": {},
   "outputs": [
    {
     "name": "stdout",
     "output_type": "stream",
     "text": [
      "<class 'pandas.core.frame.DataFrame'>\n",
      "RangeIndex: 7043 entries, 0 to 7042\n",
      "Data columns (total 20 columns):\n",
      " #   Column            Non-Null Count  Dtype  \n",
      "---  ------            --------------  -----  \n",
      " 0   gender            7043 non-null   object \n",
      " 1   SeniorCitizen     7043 non-null   int64  \n",
      " 2   Partner           7043 non-null   object \n",
      " 3   Dependents        7043 non-null   object \n",
      " 4   tenure            7043 non-null   int64  \n",
      " 5   PhoneService      7043 non-null   object \n",
      " 6   MultipleLines     7043 non-null   object \n",
      " 7   InternetService   7043 non-null   object \n",
      " 8   OnlineSecurity    7043 non-null   object \n",
      " 9   OnlineBackup      7043 non-null   object \n",
      " 10  DeviceProtection  7043 non-null   object \n",
      " 11  TechSupport       7043 non-null   object \n",
      " 12  StreamingTV       7043 non-null   object \n",
      " 13  StreamingMovies   7043 non-null   object \n",
      " 14  Contract          7043 non-null   object \n",
      " 15  PaperlessBilling  7043 non-null   object \n",
      " 16  PaymentMethod     7043 non-null   object \n",
      " 17  MonthlyCharges    7043 non-null   float64\n",
      " 18  TotalCharges      7043 non-null   object \n",
      " 19  Churn             7043 non-null   object \n",
      "dtypes: float64(1), int64(2), object(17)\n",
      "memory usage: 1.1+ MB\n"
     ]
    }
   ],
   "source": [
    "df.drop('customerID', axis='columns', inplace=True)\n",
    "df.info()"
   ]
  },
  {
   "cell_type": "code",
   "execution_count": 4,
   "metadata": {},
   "outputs": [],
   "source": [
    "# Converting data type of totalcharges from object(string) to float\n",
    "\n",
    "df['TotalCharges'] = pd.to_numeric(df['TotalCharges'], errors='coerce')"
   ]
  },
  {
   "cell_type": "code",
   "execution_count": 5,
   "metadata": {},
   "outputs": [],
   "source": [
    "df['TotalCharges'] = df['TotalCharges'].fillna(value=0)"
   ]
  },
  {
   "cell_type": "markdown",
   "metadata": {},
   "source": [
    "#### Data Cleaning"
   ]
  },
  {
   "cell_type": "code",
   "execution_count": 6,
   "metadata": {},
   "outputs": [
    {
     "name": "stdout",
     "output_type": "stream",
     "text": [
      "gender: ['Female' 'Male']\n",
      "Partner: ['Yes' 'No']\n",
      "Dependents: ['No' 'Yes']\n",
      "PhoneService: ['No' 'Yes']\n",
      "MultipleLines: ['No phone service' 'No' 'Yes']\n",
      "InternetService: ['DSL' 'Fiber optic' 'No']\n",
      "OnlineSecurity: ['No' 'Yes' 'No internet service']\n",
      "OnlineBackup: ['Yes' 'No' 'No internet service']\n",
      "DeviceProtection: ['No' 'Yes' 'No internet service']\n",
      "TechSupport: ['No' 'Yes' 'No internet service']\n",
      "StreamingTV: ['No' 'Yes' 'No internet service']\n",
      "StreamingMovies: ['No' 'Yes' 'No internet service']\n",
      "Contract: ['Month-to-month' 'One year' 'Two year']\n",
      "PaperlessBilling: ['Yes' 'No']\n",
      "PaymentMethod: ['Electronic check' 'Mailed check' 'Bank transfer (automatic)'\n",
      " 'Credit card (automatic)']\n",
      "Churn: ['No' 'Yes']\n"
     ]
    }
   ],
   "source": [
    "for column in df:\n",
    "    if df[column].dtypes == \"object\":\n",
    "        print(f'{column}: {df[column].unique()}')"
   ]
  },
  {
   "cell_type": "code",
   "execution_count": 7,
   "metadata": {},
   "outputs": [],
   "source": [
    "df.replace(\"No internet service\", \"No\", inplace=True)\n",
    "df.replace(\"No phone service\", \"No\", inplace=True)"
   ]
  },
  {
   "cell_type": "code",
   "execution_count": 8,
   "metadata": {},
   "outputs": [],
   "source": [
    "# Converting string values to boolean/int values\n",
    "\n",
    "labelEncoder = LabelEncoder()\n",
    "\n",
    "for column in df:\n",
    "    if df[column].dtypes == \"object\" and len(df[column].unique()) == 2:\n",
    "        df[column] = labelEncoder.fit_transform(df[column])"
   ]
  },
  {
   "cell_type": "code",
   "execution_count": 9,
   "metadata": {},
   "outputs": [
    {
     "data": {
      "text/plain": [
       "Index(['gender', 'SeniorCitizen', 'Partner', 'Dependents', 'tenure',\n",
       "       'PhoneService', 'MultipleLines', 'OnlineSecurity', 'OnlineBackup',\n",
       "       'DeviceProtection', 'TechSupport', 'StreamingTV', 'StreamingMovies',\n",
       "       'PaperlessBilling', 'MonthlyCharges', 'TotalCharges', 'Churn',\n",
       "       'InternetService_DSL', 'InternetService_Fiber optic',\n",
       "       'InternetService_No', 'Contract_Month-to-month', 'Contract_One year',\n",
       "       'Contract_Two year', 'PaymentMethod_Bank transfer (automatic)',\n",
       "       'PaymentMethod_Credit card (automatic)',\n",
       "       'PaymentMethod_Electronic check', 'PaymentMethod_Mailed check'],\n",
       "      dtype='object')"
      ]
     },
     "execution_count": 9,
     "metadata": {},
     "output_type": "execute_result"
    }
   ],
   "source": [
    "# One hot encoding for columns with more than 2 unique values\n",
    "\n",
    "df = pd.get_dummies(data=df, columns=['InternetService', 'Contract', 'PaymentMethod'])\n",
    "df.columns"
   ]
  },
  {
   "cell_type": "markdown",
   "metadata": {},
   "source": [
    "#### Data Visualization"
   ]
  },
  {
   "cell_type": "code",
   "execution_count": 14,
   "metadata": {},
   "outputs": [
    {
     "name": "stderr",
     "output_type": "stream",
     "text": [
      "/home/rutvik/anaconda3/lib/python3.8/site-packages/numpy/core/_asarray.py:83: VisibleDeprecationWarning: Creating an ndarray from ragged nested sequences (which is a list-or-tuple of lists-or-tuples-or ndarrays with different lengths or shapes) is deprecated. If you meant to do this, you must specify 'dtype=object' when creating the ndarray\n",
      "  return array(a, dtype, copy=False, order=order)\n"
     ]
    },
    {
     "data": {
      "image/png": "[encoded data removed]",
      "text/plain": [
       "<Figure size 720x576 with 1 Axes>"
      ]
     },
     "metadata": {
      "needs_background": "light"
     },
     "output_type": "display_data"
    }
   ],
   "source": [
    "tenure_churn_no = df[df[\"Churn\"] == 0][\"tenure\"]\n",
    "tenure_churn_yes = df[df[\"Churn\"] == 1][\"tenure\"]\n",
    "\n",
    "plt.figure(figsize=(10, 8))\n",
    "plt.hist([tenure_churn_yes, tenure_churn_no], color=['green', 'red'], label=[\"Churn=Yes\", \"Churn=No\"])\n",
    "plt.xlabel(\"Tenure\")\n",
    "plt.ylabel(\"No of customers\")\n",
    "plt.title(\"Tenure - Churn Visualization\")\n",
    "plt.legend()\n",
    "plt.show()"
   ]
  },
  {
   "cell_type": "code",
   "execution_count": 15,
   "metadata": {},
   "outputs": [
    {
     "data": {
      "image/png": "[encoded data removed]",
      "text/plain": [
       "<Figure size 720x576 with 1 Axes>"
      ]
     },
     "metadata": {
      "needs_background": "light"
     },
     "output_type": "display_data"
    }
   ],
   "source": [
    "mc_churn_no = df[df[\"Churn\"] == 0][\"MonthlyCharges\"]\n",
    "mc_churn_yes = df[df[\"Churn\"] == 1][\"MonthlyCharges\"]\n",
    "\n",
    "plt.figure(figsize=(10, 8))\n",
    "plt.hist([mc_churn_yes, mc_churn_no], color=['green', 'red'], label=[\"Churn=Yes\", \"Churn=No\"])\n",
    "plt.xlabel(\"Monthly Charges\")\n",
    "plt.ylabel(\"No of customers\")\n",
    "plt.title(\"MonthlyCharges - Churn Visualization\")\n",
    "plt.legend()\n",
    "plt.show()"
   ]
  },
  {
   "cell_type": "markdown",
   "metadata": {},
   "source": [
    "#### Data Scaling"
   ]
  },
  {
   "cell_type": "code",
   "execution_count": 10,
   "metadata": {},
   "outputs": [],
   "source": [
    "cols_to_scale = [\"tenure\", \"MonthlyCharges\", \"TotalCharges\"]\n",
    "\n",
    "scaler = MinMaxScaler()\n",
    "\n",
    "df[cols_to_scale] = scaler.fit_transform(df[cols_to_scale])"
   ]
  },
  {
   "cell_type": "markdown",
   "metadata": {},
   "source": [
    "#### Creating and training model"
   ]
  },
  {
   "cell_type": "code",
   "execution_count": 11,
   "metadata": {},
   "outputs": [],
   "source": [
    "X = df.drop(\"Churn\", axis=\"columns\")\n",
    "y = df[\"Churn\"]\n",
    "\n",
    "X_train, X_test, y_train, y_test = train_test_split(X, y, test_size=0.2, random_state=5)"
   ]
  },
  {
   "cell_type": "code",
   "execution_count": 18,
   "metadata": {},
   "outputs": [
    {
     "data": {
      "text/plain": [
       "((5634, 26), (1409, 26))"
      ]
     },
     "execution_count": 18,
     "metadata": {},
     "output_type": "execute_result"
    }
   ],
   "source": [
    "X_train.shape, X_test.shape"
   ]
  },
  {
   "cell_type": "code",
   "execution_count": 26,
   "metadata": {},
   "outputs": [
    {
     "name": "stdout",
     "output_type": "stream",
     "text": [
      "Epoch 1/10\n",
      "177/177 [==============================] - 1s 2ms/step - loss: 0.5347 - accuracy: 0.7173\n",
      "Epoch 2/10\n",
      "177/177 [==============================] - 0s 2ms/step - loss: 0.4341 - accuracy: 0.7872\n",
      "Epoch 3/10\n",
      "177/177 [==============================] - 0s 2ms/step - loss: 0.4243 - accuracy: 0.7969\n",
      "Epoch 4/10\n",
      "177/177 [==============================] - 0s 2ms/step - loss: 0.4195 - accuracy: 0.8009\n",
      "Epoch 5/10\n",
      "177/177 [==============================] - 0s 2ms/step - loss: 0.4175 - accuracy: 0.8033\n",
      "Epoch 6/10\n",
      "177/177 [==============================] - 0s 2ms/step - loss: 0.4159 - accuracy: 0.8062\n",
      "Epoch 7/10\n",
      "177/177 [==============================] - 0s 2ms/step - loss: 0.4135 - accuracy: 0.8065\n",
      "Epoch 8/10\n",
      "177/177 [==============================] - 0s 2ms/step - loss: 0.4136 - accuracy: 0.8062\n",
      "Epoch 9/10\n",
      "177/177 [==============================] - 0s 2ms/step - loss: 0.4114 - accuracy: 0.8083\n",
      "Epoch 10/10\n",
      "177/177 [==============================] - 0s 2ms/step - loss: 0.4098 - accuracy: 0.8065\n"
     ]
    },
    {
     "data": {
      "text/plain": [
       "<keras.callbacks.History at 0x7f6c141639d0>"
      ]
     },
     "execution_count": 26,
     "metadata": {},
     "output_type": "execute_result"
    }
   ],
   "source": [
    "# Creating NN Model\n",
    "\n",
    "model = keras.Sequential([\n",
    "    keras.layers.Dense(20, input_shape=(26,), activation='relu'),  # keras.layers.Dense(output_shape, input_shape, activation_function)\n",
    "    keras.layers.Dense(20, activation='relu'),  # keras.layers.Dense(output_shape, activation_function) - no input_shape required\n",
    "    keras.layers.Dense(1, activation=\"sigmoid\")\n",
    "])\n",
    "\n",
    "model.compile(\n",
    "    optimizer=\"adam\",\n",
    "    loss=\"binary_crossentropy\",\n",
    "    metrics=[\"accuracy\"]\n",
    ")\n",
    "\n",
    "model.fit(X_train, y_train, epochs=10)"
   ]
  },
  {
   "cell_type": "code",
   "execution_count": 20,
   "metadata": {},
   "outputs": [
    {
     "name": "stdout",
     "output_type": "stream",
     "text": [
      "45/45 [==============================] - 0s 2ms/step - loss: 0.4638 - accuracy: 0.7878\n"
     ]
    },
    {
     "data": {
      "text/plain": [
       "(0.46378228068351746, 78.77927422523499)"
      ]
     },
     "execution_count": 20,
     "metadata": {},
     "output_type": "execute_result"
    }
   ],
   "source": [
    "# Loss and accuracy on test values\n",
    "\n",
    "loss, accuracy = model.evaluate(X_test, y_test)\n",
    "\n",
    "loss, accuracy*100"
   ]
  },
  {
   "cell_type": "code",
   "execution_count": 21,
   "metadata": {},
   "outputs": [],
   "source": [
    "yp = model.predict(X_test)\n",
    "\n",
    "y_pred = []\n",
    "\n",
    "for e in yp:\n",
    "    if e > 0.5:\n",
    "        y_pred.append(1)\n",
    "    else:\n",
    "        y_pred.append(0)"
   ]
  },
  {
   "cell_type": "code",
   "execution_count": 22,
   "metadata": {},
   "outputs": [
    {
     "name": "stdout",
     "output_type": "stream",
     "text": [
      "              precision    recall  f1-score   support\n",
      "\n",
      "           0       0.85      0.86      0.85      1023\n",
      "           1       0.61      0.60      0.61       386\n",
      "\n",
      "    accuracy                           0.79      1409\n",
      "   macro avg       0.73      0.73      0.73      1409\n",
      "weighted avg       0.79      0.79      0.79      1409\n",
      "\n"
     ]
    }
   ],
   "source": [
    "print(classification_report(y_test, y_pred))"
   ]
  },
  {
   "cell_type": "code",
   "execution_count": 23,
   "metadata": {},
   "outputs": [
    {
     "data": {
      "image/png": "[encoded data removed]",
      "text/plain": [
       "<Figure size 720x504 with 2 Axes>"
      ]
     },
     "metadata": {
      "needs_background": "light"
     },
     "output_type": "display_data"
    }
   ],
   "source": [
    "cm = tf.math.confusion_matrix(labels=y_test, predictions=y_pred)\n",
    "\n",
    "plt.figure(figsize=(10,7))\n",
    "sns.heatmap(cm, annot=True, fmt='d')\n",
    "plt.xlabel(\"Predicted\")\n",
    "plt.ylabel(\"Truth\")\n",
    "plt.show()"
   ]
  },
  {
   "cell_type": "markdown",
   "metadata": {},
   "source": [
    "#### Handling imbalanced data"
   ]
  },
  {
   "cell_type": "code",
   "execution_count": 12,
   "metadata": {},
   "outputs": [],
   "source": [
    "def ANN(X_train, y_train, X_test, y_test, loss, weights):\n",
    "    model = keras.Sequential([\n",
    "        keras.layers.Dense(26, input_shape=(26,), activation='relu'),  # keras.layers.Dense(output_shape, input_shape, activation_function)\n",
    "        keras.layers.Dense(20, activation='relu'),  # keras.layers.Dense(output_shape, activation_function) - no input_shape required\n",
    "        keras.layers.Dense(1, activation=\"sigmoid\")\n",
    "    ])\n",
    "\n",
    "    model.compile(\n",
    "        optimizer=\"adam\",\n",
    "        loss=loss,\n",
    "        metrics=[\"accuracy\"]\n",
    "    )\n",
    "    \n",
    "    if weights == -1:\n",
    "        model.fit(X_train, y_train, epochs=10)\n",
    "    else:\n",
    "        model.fit(X_train, y_train, epochs=10, class_weight = weights)\n",
    "    \n",
    "    print(model.evaluate(X_test, y_test))\n",
    "    \n",
    "    y_preds = model.predict(X_test)\n",
    "    y_preds = np.round(y_preds)\n",
    "    \n",
    "    print(\"Classification Report: \\n\", classification_report(y_test, y_preds))\n",
    "    \n",
    "    return y_preds"
   ]
  },
  {
   "cell_type": "code",
   "execution_count": 37,
   "metadata": {},
   "outputs": [
    {
     "name": "stdout",
     "output_type": "stream",
     "text": [
      "Epoch 1/10\n",
      "94/94 [==============================] - 0s 1ms/step - loss: 0.6116 - accuracy: 0.6773\n",
      "Epoch 2/10\n",
      "94/94 [==============================] - 0s 1ms/step - loss: 0.5230 - accuracy: 0.7408\n",
      "Epoch 3/10\n",
      "94/94 [==============================] - 0s 1ms/step - loss: 0.5091 - accuracy: 0.7438\n",
      "Epoch 4/10\n",
      "94/94 [==============================] - 0s 1ms/step - loss: 0.5025 - accuracy: 0.7512\n",
      "Epoch 5/10\n",
      "94/94 [==============================] - 0s 1ms/step - loss: 0.4974 - accuracy: 0.7572\n",
      "Epoch 6/10\n",
      "94/94 [==============================] - 0s 1ms/step - loss: 0.4954 - accuracy: 0.7565\n",
      "Epoch 7/10\n",
      "94/94 [==============================] - 0s 1ms/step - loss: 0.4925 - accuracy: 0.7552\n",
      "Epoch 8/10\n",
      "94/94 [==============================] - 0s 1ms/step - loss: 0.4899 - accuracy: 0.7589\n",
      "Epoch 9/10\n",
      "94/94 [==============================] - 0s 1ms/step - loss: 0.4883 - accuracy: 0.7579\n",
      "Epoch 10/10\n",
      "94/94 [==============================] - 0s 1ms/step - loss: 0.4862 - accuracy: 0.7612\n",
      "24/24 [==============================] - 0s 788us/step - loss: 0.4498 - accuracy: 0.7741\n",
      "[0.44981861114501953, 0.7740641832351685]\n",
      "Classification Report: \n",
      "               precision    recall  f1-score   support\n",
      "\n",
      "           0       0.76      0.80      0.78       374\n",
      "           1       0.79      0.75      0.77       374\n",
      "\n",
      "    accuracy                           0.77       748\n",
      "   macro avg       0.77      0.77      0.77       748\n",
      "weighted avg       0.77      0.77      0.77       748\n",
      "\n"
     ]
    }
   ],
   "source": [
    "y_preds = ANN(X_train, y_train, X_test, y_test, \"binary_crossentropy\", -1)"
   ]
  },
  {
   "cell_type": "markdown",
   "metadata": {},
   "source": [
    "#### Under Sampling"
   ]
  },
  {
   "cell_type": "code",
   "execution_count": 30,
   "metadata": {},
   "outputs": [
    {
     "data": {
      "text/plain": [
       "(5174, 1869)"
      ]
     },
     "execution_count": 30,
     "metadata": {},
     "output_type": "execute_result"
    }
   ],
   "source": [
    "count_0, count_1 = df[\"Churn\"].value_counts()\n",
    "count_0, count_1"
   ]
  },
  {
   "cell_type": "code",
   "execution_count": 33,
   "metadata": {},
   "outputs": [
    {
     "data": {
      "text/plain": [
       "1    1869\n",
       "0    1869\n",
       "Name: Churn, dtype: int64"
      ]
     },
     "execution_count": 33,
     "metadata": {},
     "output_type": "execute_result"
    }
   ],
   "source": [
    "df_0_under = df[df[\"Churn\"] == 0].sample(count_1)\n",
    "\n",
    "df_under_sample = pd.concat([df_0_under, df[df[\"Churn\"] == 1]], axis=0)\n",
    "df_under_sample[\"Churn\"].value_counts()"
   ]
  },
  {
   "cell_type": "code",
   "execution_count": 34,
   "metadata": {},
   "outputs": [],
   "source": [
    "X = df_under_sample.drop(\"Churn\", axis=\"columns\")\n",
    "y = df_under_sample[\"Churn\"]\n",
    "\n",
    "X_train, X_test, y_train, y_test = train_test_split(X, y, test_size=0.2, random_state=5, stratify=y)"
   ]
  },
  {
   "cell_type": "code",
   "execution_count": 38,
   "metadata": {},
   "outputs": [
    {
     "name": "stdout",
     "output_type": "stream",
     "text": [
      "Epoch 1/10\n",
      "94/94 [==============================] - 0s 985us/step - loss: 0.6222 - accuracy: 0.6579\n",
      "Epoch 2/10\n",
      "94/94 [==============================] - 0s 1ms/step - loss: 0.5354 - accuracy: 0.7355\n",
      "Epoch 3/10\n",
      "94/94 [==============================] - 0s 1ms/step - loss: 0.5189 - accuracy: 0.7441\n",
      "Epoch 4/10\n",
      "94/94 [==============================] - 0s 1ms/step - loss: 0.5111 - accuracy: 0.7485\n",
      "Epoch 5/10\n",
      "94/94 [==============================] - 0s 1ms/step - loss: 0.5066 - accuracy: 0.7545\n",
      "Epoch 6/10\n",
      "94/94 [==============================] - 0s 1ms/step - loss: 0.5019 - accuracy: 0.7522\n",
      "Epoch 7/10\n",
      "94/94 [==============================] - 0s 1ms/step - loss: 0.5000 - accuracy: 0.7528\n",
      "Epoch 8/10\n",
      "94/94 [==============================] - 0s 1ms/step - loss: 0.4970 - accuracy: 0.7522\n",
      "Epoch 9/10\n",
      "94/94 [==============================] - 0s 1ms/step - loss: 0.4947 - accuracy: 0.7532\n",
      "Epoch 10/10\n",
      "94/94 [==============================] - 0s 1ms/step - loss: 0.4943 - accuracy: 0.7555\n",
      "24/24 [==============================] - 0s 869us/step - loss: 0.4566 - accuracy: 0.7834\n",
      "[0.45656123757362366, 0.7834224700927734]\n",
      "Classification Report: \n",
      "               precision    recall  f1-score   support\n",
      "\n",
      "           0       0.77      0.81      0.79       374\n",
      "           1       0.80      0.76      0.78       374\n",
      "\n",
      "    accuracy                           0.78       748\n",
      "   macro avg       0.78      0.78      0.78       748\n",
      "weighted avg       0.78      0.78      0.78       748\n",
      "\n"
     ]
    }
   ],
   "source": [
    "y_preds = ANN(X_train, y_train, X_test, y_test, \"binary_crossentropy\", -1)"
   ]
  },
  {
   "cell_type": "markdown",
   "metadata": {},
   "source": [
    "#### Over Sampling"
   ]
  },
  {
   "cell_type": "code",
   "execution_count": 39,
   "metadata": {},
   "outputs": [
    {
     "data": {
      "text/plain": [
       "1    5174\n",
       "0    5174\n",
       "Name: Churn, dtype: int64"
      ]
     },
     "execution_count": 39,
     "metadata": {},
     "output_type": "execute_result"
    }
   ],
   "source": [
    "df_1_over = df[df[\"Churn\"] == 1].sample(count_0, replace=True)\n",
    "\n",
    "df_over_sample = pd.concat([df_1_over, df[df[\"Churn\"] == 0]], axis=0)\n",
    "df_over_sample[\"Churn\"].value_counts()"
   ]
  },
  {
   "cell_type": "code",
   "execution_count": 40,
   "metadata": {},
   "outputs": [],
   "source": [
    "X = df_over_sample.drop(\"Churn\", axis=\"columns\")\n",
    "y = df_over_sample[\"Churn\"]\n",
    "\n",
    "X_train, X_test, y_train, y_test = train_test_split(X, y, test_size=0.2, random_state=5, stratify=y)"
   ]
  },
  {
   "cell_type": "code",
   "execution_count": 41,
   "metadata": {},
   "outputs": [
    {
     "name": "stdout",
     "output_type": "stream",
     "text": [
      "Epoch 1/10\n",
      "259/259 [==============================] - 1s 2ms/step - loss: 0.5635 - accuracy: 0.7120\n",
      "Epoch 2/10\n",
      "259/259 [==============================] - 0s 2ms/step - loss: 0.4966 - accuracy: 0.7578\n",
      "Epoch 3/10\n",
      "259/259 [==============================] - 0s 2ms/step - loss: 0.4893 - accuracy: 0.7660\n",
      "Epoch 4/10\n",
      "259/259 [==============================] - 0s 2ms/step - loss: 0.4847 - accuracy: 0.7637\n",
      "Epoch 5/10\n",
      "259/259 [==============================] - 0s 2ms/step - loss: 0.4814 - accuracy: 0.7685\n",
      "Epoch 6/10\n",
      "259/259 [==============================] - 0s 2ms/step - loss: 0.4782 - accuracy: 0.7678\n",
      "Epoch 7/10\n",
      "259/259 [==============================] - 0s 2ms/step - loss: 0.4757 - accuracy: 0.7712\n",
      "Epoch 8/10\n",
      "259/259 [==============================] - 0s 2ms/step - loss: 0.4737 - accuracy: 0.7729\n",
      "Epoch 9/10\n",
      "259/259 [==============================] - 0s 2ms/step - loss: 0.4714 - accuracy: 0.7731\n",
      "Epoch 10/10\n",
      "259/259 [==============================] - 0s 2ms/step - loss: 0.4688 - accuracy: 0.7729\n",
      "65/65 [==============================] - 0s 1ms/step - loss: 0.4770 - accuracy: 0.7691\n",
      "[0.47700637578964233, 0.7690821290016174]\n",
      "Classification Report: \n",
      "               precision    recall  f1-score   support\n",
      "\n",
      "           0       0.78      0.75      0.76      1035\n",
      "           1       0.76      0.79      0.77      1035\n",
      "\n",
      "    accuracy                           0.77      2070\n",
      "   macro avg       0.77      0.77      0.77      2070\n",
      "weighted avg       0.77      0.77      0.77      2070\n",
      "\n"
     ]
    }
   ],
   "source": [
    "y_preds = ANN(X_train, y_train, X_test, y_test, \"binary_crossentropy\", -1)"
   ]
  },
  {
   "cell_type": "markdown",
   "metadata": {},
   "source": [
    "#### SMOTE - Over sampling by producing synthetic samples"
   ]
  },
  {
   "cell_type": "code",
   "execution_count": 42,
   "metadata": {},
   "outputs": [],
   "source": [
    "X = df.drop(\"Churn\", axis=\"columns\")\n",
    "y = df[\"Churn\"]"
   ]
  },
  {
   "cell_type": "code",
   "execution_count": 43,
   "metadata": {},
   "outputs": [
    {
     "name": "stdout",
     "output_type": "stream",
     "text": [
      "Collecting imbalanced-learn\n",
      "  Downloading imbalanced_learn-0.8.1-py3-none-any.whl (189 kB)\n",
      "\u001b[K     |████████████████████████████████| 189 kB 167 kB/s eta 0:00:01\n",
      "\u001b[?25hRequirement already satisfied: joblib>=0.11 in /home/rutvik/anaconda3/lib/python3.8/site-packages (from imbalanced-learn) (0.16.0)\n",
      "Requirement already satisfied: scipy>=0.19.1 in /home/rutvik/anaconda3/lib/python3.8/site-packages (from imbalanced-learn) (1.5.0)\n",
      "Requirement already satisfied: numpy>=1.13.3 in /home/rutvik/anaconda3/lib/python3.8/site-packages (from imbalanced-learn) (1.19.5)\n",
      "Collecting scikit-learn>=0.24\n",
      "  Downloading scikit_learn-1.0.1-cp38-cp38-manylinux_2_12_x86_64.manylinux2010_x86_64.whl (25.9 MB)\n",
      "\u001b[K     |████████████████████████████████| 25.9 MB 22 kB/s  eta 0:00:01\n",
      "\u001b[?25hRequirement already satisfied: threadpoolctl>=2.0.0 in /home/rutvik/anaconda3/lib/python3.8/site-packages (from scikit-learn>=0.24->imbalanced-learn) (2.1.0)\n",
      "Installing collected packages: scikit-learn, imbalanced-learn\n",
      "  Attempting uninstall: scikit-learn\n",
      "    Found existing installation: scikit-learn 0.23.1\n",
      "    Uninstalling scikit-learn-0.23.1:\n",
      "      Successfully uninstalled scikit-learn-0.23.1\n",
      "Successfully installed imbalanced-learn-0.8.1 scikit-learn-1.0.1\n"
     ]
    }
   ],
   "source": [
    "# !pip install imbalanced-learn"
   ]
  },
  {
   "cell_type": "code",
   "execution_count": 13,
   "metadata": {},
   "outputs": [
    {
     "data": {
      "text/plain": [
       "1    5174\n",
       "0    5174\n",
       "Name: Churn, dtype: int64"
      ]
     },
     "execution_count": 13,
     "metadata": {},
     "output_type": "execute_result"
    }
   ],
   "source": [
    "from imblearn.over_sampling import SMOTE\n",
    "\n",
    "smote = SMOTE(sampling_strategy=\"minority\")\n",
    "X_sm, y_sm = smote.fit_sample(X, y)\n",
    "\n",
    "y_sm.value_counts()"
   ]
  },
  {
   "cell_type": "code",
   "execution_count": 14,
   "metadata": {},
   "outputs": [
    {
     "name": "stdout",
     "output_type": "stream",
     "text": [
      "Epoch 1/10\n",
      "259/259 [==============================] - 1s 1ms/step - loss: 0.5487 - accuracy: 0.7135\n",
      "Epoch 2/10\n",
      "259/259 [==============================] - 0s 1ms/step - loss: 0.4767 - accuracy: 0.7677\n",
      "Epoch 3/10\n",
      "259/259 [==============================] - 0s 1ms/step - loss: 0.4669 - accuracy: 0.7762\n",
      "Epoch 4/10\n",
      "259/259 [==============================] - 0s 1ms/step - loss: 0.4603 - accuracy: 0.7770\n",
      "Epoch 5/10\n",
      "259/259 [==============================] - 0s 1ms/step - loss: 0.4551 - accuracy: 0.7786\n",
      "Epoch 6/10\n",
      "259/259 [==============================] - 0s 1ms/step - loss: 0.4522 - accuracy: 0.7800\n",
      "Epoch 7/10\n",
      "259/259 [==============================] - 0s 1ms/step - loss: 0.4463 - accuracy: 0.7841\n",
      "Epoch 8/10\n",
      "259/259 [==============================] - 0s 1ms/step - loss: 0.4422 - accuracy: 0.7899\n",
      "Epoch 9/10\n",
      "259/259 [==============================] - 0s 1ms/step - loss: 0.4403 - accuracy: 0.7893\n",
      "Epoch 10/10\n",
      "259/259 [==============================] - 0s 1ms/step - loss: 0.4360 - accuracy: 0.7916\n",
      "65/65 [==============================] - 0s 687us/step - loss: 0.4408 - accuracy: 0.7816\n",
      "[0.4408336877822876, 0.781642496585846]\n",
      "Classification Report: \n",
      "               precision    recall  f1-score   support\n",
      "\n",
      "           0       0.76      0.82      0.79      1035\n",
      "           1       0.81      0.74      0.77      1035\n",
      "\n",
      "    accuracy                           0.78      2070\n",
      "   macro avg       0.78      0.78      0.78      2070\n",
      "weighted avg       0.78      0.78      0.78      2070\n",
      "\n"
     ]
    }
   ],
   "source": [
    "X_train, X_test, y_train, y_test = train_test_split(X_sm, y_sm, test_size=0.2, random_state=5, stratify=y_sm)\n",
    "\n",
    "y_preds = ANN(X_train, y_train, X_test, y_test, \"binary_crossentropy\", -1)"
   ]
  },
  {
   "cell_type": "markdown",
   "metadata": {},
   "source": [
    "#### Use of Ensemble with undersampling"
   ]
  },
  {
   "cell_type": "markdown",
   "metadata": {},
   "source": [
    "Create equal batches from majority class, train each batch with minority class and take majority vote to produce result"
   ]
  },
  {
   "cell_type": "code",
   "execution_count": null,
   "metadata": {},
   "outputs": [],
   "source": []
  }
 ],
 "metadata": {
  "kernelspec": {
   "display_name": "Python 3",
   "language": "python",
   "name": "python3"
  },
  "language_info": {
   "codemirror_mode": {
    "name": "ipython",
    "version": 3
   },
   "file_extension": ".py",
   "mimetype": "text/x-python",
   "name": "python",
   "nbconvert_exporter": "python",
   "pygments_lexer": "ipython3",
   "version": "3.8.3"
  }
 },
 "nbformat": 4,
 "nbformat_minor": 4
}
